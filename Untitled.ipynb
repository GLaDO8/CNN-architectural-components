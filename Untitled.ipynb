{
 "cells": [
  {
   "cell_type": "code",
   "execution_count": 1,
   "metadata": {},
   "outputs": [],
   "source": [
    "import numpy as np"
   ]
  },
  {
   "cell_type": "code",
   "execution_count": null,
   "metadata": {},
   "outputs": [],
   "source": [
    "def convolve(inp_layer, stride, kernel2d, kernel_depth, ispadding):\n",
    "    inp_depth = inp_layer.shape[2]\n",
    "    out_width = (inp_layer.shape[1] - kernel2d)/stride + 1\n",
    "    out_height = (inp_layer.shape[0] - kernel2d)/stride + 1"
   ]
  },
  {
   "cell_type": "code",
   "execution_count": 43,
   "metadata": {},
   "outputs": [
    {
     "name": "stdout",
     "output_type": "stream",
     "text": [
      "[[0 0]\n",
      " [0 1]\n",
      " [0 2]\n",
      " [1 0]\n",
      " [1 1]\n",
      " [1 2]\n",
      " [2 0]\n",
      " [2 1]\n",
      " [2 2]]\n",
      "[[3 3]\n",
      " [3 4]\n",
      " [3 5]\n",
      " [4 3]\n",
      " [4 4]\n",
      " [4 5]\n",
      " [5 3]\n",
      " [5 4]\n",
      " [5 5]]\n"
     ]
    }
   ],
   "source": [
    "inp_layer = np.full((6,6), 2)\n",
    "kernel2d = 4\n",
    "stride = 1\n",
    "out_wi = int((inp_layer.shape[1] - kernel2d)/stride + 1)\n",
    "out_hi = int((inp_layer.shape[0] - kernel2d)/stride + 1)\n",
    "a = np.repeat(np.arange(out_wi), out_wi)\n",
    "a = a.reshape(a.shape[0], 1)\n",
    "b = np.tile(np.arange(out_wi), out_wi)\n",
    "b = b.reshape(b.shape[0], 1)\n",
    "c = np.concatenate((a, b), axis = 1)\n",
    "d = np.full(c.shape, kernel2d - 1)\n",
    "e = c+d\n",
    "print(c)\n",
    "print(e)"
   ]
  },
  {
   "cell_type": "code",
   "execution_count": null,
   "metadata": {},
   "outputs": [],
   "source": []
  }
 ],
 "metadata": {
  "kernelspec": {
   "display_name": "Python 3",
   "language": "python",
   "name": "python3"
  },
  "language_info": {
   "codemirror_mode": {
    "name": "ipython",
    "version": 3
   },
   "file_extension": ".py",
   "mimetype": "text/x-python",
   "name": "python",
   "nbconvert_exporter": "python",
   "pygments_lexer": "ipython3",
   "version": "3.6.7"
  }
 },
 "nbformat": 4,
 "nbformat_minor": 2
}
