{
 "cells": [
  {
   "cell_type": "code",
   "execution_count": 1,
   "metadata": {},
   "outputs": [],
   "source": [
    "import numpy as np"
   ]
  },
  {
   "cell_type": "code",
   "execution_count": 2,
   "metadata": {},
   "outputs": [
    {
     "ename": "SyntaxError",
     "evalue": "non-default argument follows default argument (<ipython-input-2-b919fe0b9e6e>, line 1)",
     "output_type": "error",
     "traceback": [
      "\u001b[0;36m  File \u001b[0;32m\"<ipython-input-2-b919fe0b9e6e>\"\u001b[0;36m, line \u001b[0;32m1\u001b[0m\n\u001b[0;31m    def vectorise_image(inp_layer, stride = 1, kernel2d, kernel_depth, ispadding = False):\u001b[0m\n\u001b[0m                       ^\u001b[0m\n\u001b[0;31mSyntaxError\u001b[0m\u001b[0;31m:\u001b[0m non-default argument follows default argument\n"
     ]
    }
   ],
   "source": [
    "def vectorise_image(inp_layer, stride = 1, kernel2d, kernel_depth, ispadding = False):\n",
    "    inp_depth = inp_layer.shape[2]\n",
    "    out_width = (inp_layer.shape[1] - kernel2d)/stride + 1\n",
    "    out_height = (inp_layer.shape[0] - kernel2d)/stride + 1"
   ]
  },
  {
   "cell_type": "code",
   "execution_count": 3,
   "metadata": {},
   "outputs": [
    {
     "name": "stdout",
     "output_type": "stream",
     "text": [
      "[0 0 0 1 1 1 2 2 2 0 0 0 1 1 1 2 2 2 0 0 0 1 1 1 2 2 2]\n",
      "[[0 0]\n",
      " [0 1]\n",
      " [0 2]\n",
      " [1 0]\n",
      " [1 1]\n",
      " [1 2]\n",
      " [2 0]\n",
      " [2 1]\n",
      " [2 2]]\n",
      "[[3 3]\n",
      " [3 4]\n",
      " [3 5]\n",
      " [4 3]\n",
      " [4 4]\n",
      " [4 5]\n",
      " [5 3]\n",
      " [5 4]\n",
      " [5 5]]\n"
     ]
    }
   ],
   "source": [
    "inp_layer = np.full((6,6), 2)\n",
    "kernel2d = 4\n",
    "stride = 1\n",
    "out_wi = int((inp_layer.shape[1] - kernel2d)/stride + 1)\n",
    "out_hi = int((inp_layer.shape[0] - kernel2d)/stride + 1)\n",
    "a = np.repeat(np.arange(out_wi), out_wi)\n",
    "x  = np.tile(a, 3)\n",
    "print(x)\n",
    "a = a.reshape(a.shape[0], 1)\n",
    "b = np.tile(np.arange(out_wi), out_wi)\n",
    "b = b.reshape(b.shape[0], 1)\n",
    "c = np.concatenate((a, b), axis = 1)\n",
    "d = np.full(c.shape, kernel2d - 1)\n",
    "e = c+d\n",
    "\n",
    "print(c)\n",
    "print(e)\n",
    "\n",
    "######\n"
   ]
  },
  {
   "cell_type": "code",
   "execution_count": 4,
   "metadata": {},
   "outputs": [
    {
     "ename": "SyntaxError",
     "evalue": "invalid syntax (<ipython-input-4-183b3cdadc33>, line 1)",
     "output_type": "error",
     "traceback": [
      "\u001b[0;36m  File \u001b[0;32m\"<ipython-input-4-183b3cdadc33>\"\u001b[0;36m, line \u001b[0;32m1\u001b[0m\n\u001b[0;31m    inp_layer[(0:3, 0:2), (0:3, 0:2)]\u001b[0m\n\u001b[0m                ^\u001b[0m\n\u001b[0;31mSyntaxError\u001b[0m\u001b[0;31m:\u001b[0m invalid syntax\n"
     ]
    }
   ],
   "source": [
    "inp_layer[(0:3, 0:2), (0:3, 0:2)]\n",
    "# print(inp_layer[np.ix_([1,1],[5,5])])\n",
    "# gray[1:starty+newh, startx:startx+neww]"
   ]
  },
  {
   "cell_type": "code",
   "execution_count": 50,
   "metadata": {},
   "outputs": [
    {
     "name": "stdout",
     "output_type": "stream",
     "text": [
      "[[4 2 4 0]\n",
      " [3 1 4 1]\n",
      " [4 2 0 2]\n",
      " [0 0 3 3]]\n",
      " \n",
      "[[4 2 4 3 1 4 4 2 0]\n",
      " [2 4 0 1 4 1 2 0 2]\n",
      " [3 1 4 4 2 0 0 0 3]\n",
      " [1 4 1 2 0 2 0 3 3]]\n",
      " \n",
      "[[0 0 0 1 1 1 2 2 2]\n",
      " [0 0 0 1 1 1 2 2 2]\n",
      " [1 1 1 2 2 2 3 3 3]\n",
      " [1 1 1 2 2 2 3 3 3]]\n",
      " \n",
      "[[0 1 2 0 1 2 0 1 2]\n",
      " [1 2 3 1 2 3 1 2 3]\n",
      " [0 1 2 0 1 2 0 1 2]\n",
      " [1 2 3 1 2 3 1 2 3]]\n"
     ]
    }
   ],
   "source": [
    "# inp_layer = np.full((6,6), 2)\n",
    "inp_layer = np.random.randint(5, size=(4, 4))\n",
    "padding = 0\n",
    "H = 4\n",
    "W = 4\n",
    "C = 1\n",
    "stride = 1\n",
    "field_height = 2\n",
    "field_width = 2\n",
    "\n",
    "out_height = (H + 2 * padding - field_height) / stride + 1\n",
    "out_width = (W + 2 * padding - field_width) / stride + 1\n",
    "\n",
    "i0 = np.repeat(np.arange(field_height), field_width)\n",
    "i0 = np.tile(i0, C)\n",
    "i1 = stride * np.repeat(np.arange(out_height), out_width)\n",
    "j0 = np.tile(np.arange(field_width), int(field_height * C))\n",
    "j1 = stride * np.tile(np.arange(out_width), int(out_height))\n",
    "i = i0.reshape(-1, 1) + i1.reshape(1, -1)\n",
    "j = j0.reshape(-1, 1) + j1.reshape(1, -1)\n",
    "k = np.repeat(np.arange(C), field_height * field_width).reshape(-1, 1)\n",
    "i = np.array(i, dtype = int)\n",
    "j = np.array(j, dtype = int)\n",
    "print(inp_layer)\n",
    "print(' ')\n",
    "print(inp_layer[i, j])\n",
    "print(' ')\n",
    "print(i)\n",
    "print(' ')\n",
    "print(j)\n",
    "# print(' ')\n",
    "# print(i0.reshape(-1, 1))\n",
    "# print(' ')\n",
    "# print(i1.reshape(1, -1))"
   ]
  },
  {
   "cell_type": "code",
   "execution_count": 122,
   "metadata": {},
   "outputs": [
    {
     "name": "stdout",
     "output_type": "stream",
     "text": [
      "(3, 4, 4)\n",
      " \n",
      "[[[4 1 4 0]\n",
      "  [2 4 1 0]\n",
      "  [1 4 0 3]\n",
      "  [2 2 3 2]]\n",
      "\n",
      " [[4 2 2 0]\n",
      "  [2 0 3 0]\n",
      "  [0 1 4 1]\n",
      "  [3 1 1 3]]\n",
      "\n",
      " [[1 3 4 0]\n",
      "  [0 3 2 3]\n",
      "  [4 2 2 3]\n",
      "  [3 4 1 1]]]\n",
      " \n",
      "[[[4 1 2 4]\n",
      "  [4 0 1 0]\n",
      "  [1 4 2 2]\n",
      "  [0 3 3 2]]\n",
      "\n",
      " [[4 2 2 0]\n",
      "  [2 0 3 0]\n",
      "  [0 1 3 1]\n",
      "  [4 1 1 3]]\n",
      "\n",
      " [[1 3 0 3]\n",
      "  [4 0 2 3]\n",
      "  [4 2 3 4]\n",
      "  [2 3 1 1]]]\n",
      " \n",
      "[[2 0]\n",
      " [2 1]]\n",
      " \n",
      "[[[4 1 2 4 4 2 2 0 1 3 0 3]\n",
      "  [4 0 1 0 2 0 3 0 4 0 2 3]\n",
      "  [1 4 2 2 0 1 3 1 4 2 3 4]\n",
      "  [0 3 3 2 4 1 1 3 2 3 1 1]]]\n"
     ]
    }
   ],
   "source": [
    "inp_layer = np.random.randint(5, size=(3, 4, 4))\n",
    "kernel = np.random.randint(3, size=(2,2))\n",
    "padding = 0\n",
    "H = 4\n",
    "W = 4\n",
    "C = 3\n",
    "stride = 2\n",
    "field_height = 2\n",
    "field_width = 2\n",
    "out_height = int((H + 2 * padding - field_height)/stride) + 1\n",
    "out_width = int((W + 2 * padding - field_width)/stride) + 1\n",
    "\n",
    "#base vectors for index generation\n",
    "colm = np.tile(np.arange(field_width), field_height)\n",
    "coli = stride * np.tile(np.arange(out_width), out_height)\n",
    "rowm = np.repeat(np.arange(field_width), field_height)\n",
    "rowi = stride * np.repeat(np.arange(out_width), out_height)\n",
    "\n",
    "#index generation\n",
    "col_index = colm.reshape(1, -1) + coli.reshape(-1, 1)\n",
    "row_index = rowm.reshape(1, -1) + rowi.reshape(-1, 1)\n",
    "print(inp_layer.shape)\n",
    "print(\" \")\n",
    "print(inp_layer)\n",
    "print(\" \")\n",
    "# print(inp_layer[:, row_index, col_index])\n",
    "print(inp_layer[:, row_index, col_index])\n",
    "print(\" \")\n",
    "print(kernel.reshape(2, 2))\n",
    "print(\" \")\n",
    "inp_col = np.concatenate((np.vsplit(inp_layer[:, row_index, col_index], 3)), axis = 2)\n",
    "# print(np.matmul(kernel.reshape(1, -1), (inp_layer[:, row_index, col_index])).reshape(2,2,2))"
   ]
  },
  {
   "cell_type": "code",
   "execution_count": 30,
   "metadata": {},
   "outputs": [
    {
     "ename": "TypeError",
     "evalue": "'int' object is not callable",
     "output_type": "error",
     "traceback": [
      "\u001b[0;31m---------------------------------------------------------------------------\u001b[0m",
      "\u001b[0;31mTypeError\u001b[0m                                 Traceback (most recent call last)",
      "\u001b[0;32m<ipython-input-30-02d172c1ee16>\u001b[0m in \u001b[0;36m<module>\u001b[0;34m\u001b[0m\n\u001b[0;32m----> 1\u001b[0;31m \u001b[0mnp\u001b[0m\u001b[0;34m.\u001b[0m\u001b[0mpad\u001b[0m\u001b[0;34m(\u001b[0m\u001b[0minp_layer\u001b[0m\u001b[0;34m,\u001b[0m \u001b[0;36m0\u001b[0m\u001b[0;34m,\u001b[0m \u001b[0;36m1\u001b[0m\u001b[0;34m,\u001b[0m \u001b[0mpadder\u001b[0m \u001b[0;34m=\u001b[0m \u001b[0;36m1\u001b[0m\u001b[0;34m)\u001b[0m\u001b[0;34m\u001b[0m\u001b[0;34m\u001b[0m\u001b[0m\n\u001b[0m",
      "\u001b[0;32m~/anaconda3/envs/image/lib/python3.6/site-packages/numpy/lib/arraypad.py\u001b[0m in \u001b[0;36mpad\u001b[0;34m(array, pad_width, mode, **kwargs)\u001b[0m\n\u001b[1;32m   1233\u001b[0m                                 \u001b[0mpad_width\u001b[0m\u001b[0;34m[\u001b[0m\u001b[0miaxis\u001b[0m\u001b[0;34m]\u001b[0m\u001b[0;34m,\u001b[0m\u001b[0;34m\u001b[0m\u001b[0;34m\u001b[0m\u001b[0m\n\u001b[1;32m   1234\u001b[0m                                 \u001b[0miaxis\u001b[0m\u001b[0;34m,\u001b[0m\u001b[0;34m\u001b[0m\u001b[0;34m\u001b[0m\u001b[0m\n\u001b[0;32m-> 1235\u001b[0;31m                                 kwargs)\n\u001b[0m\u001b[1;32m   1236\u001b[0m         \u001b[0;32mreturn\u001b[0m \u001b[0mnewmat\u001b[0m\u001b[0;34m\u001b[0m\u001b[0;34m\u001b[0m\u001b[0m\n\u001b[1;32m   1237\u001b[0m \u001b[0;34m\u001b[0m\u001b[0m\n",
      "\u001b[0;32m~/anaconda3/envs/image/lib/python3.6/site-packages/numpy/lib/shape_base.py\u001b[0m in \u001b[0;36mapply_along_axis\u001b[0;34m(func1d, axis, arr, *args, **kwargs)\u001b[0m\n\u001b[1;32m    378\u001b[0m     \u001b[0;32mexcept\u001b[0m \u001b[0mStopIteration\u001b[0m\u001b[0;34m:\u001b[0m\u001b[0;34m\u001b[0m\u001b[0;34m\u001b[0m\u001b[0m\n\u001b[1;32m    379\u001b[0m         \u001b[0;32mraise\u001b[0m \u001b[0mValueError\u001b[0m\u001b[0;34m(\u001b[0m\u001b[0;34m'Cannot apply_along_axis when any iteration dimensions are 0'\u001b[0m\u001b[0;34m)\u001b[0m\u001b[0;34m\u001b[0m\u001b[0;34m\u001b[0m\u001b[0m\n\u001b[0;32m--> 380\u001b[0;31m     \u001b[0mres\u001b[0m \u001b[0;34m=\u001b[0m \u001b[0masanyarray\u001b[0m\u001b[0;34m(\u001b[0m\u001b[0mfunc1d\u001b[0m\u001b[0;34m(\u001b[0m\u001b[0minarr_view\u001b[0m\u001b[0;34m[\u001b[0m\u001b[0mind0\u001b[0m\u001b[0;34m]\u001b[0m\u001b[0;34m,\u001b[0m \u001b[0;34m*\u001b[0m\u001b[0margs\u001b[0m\u001b[0;34m,\u001b[0m \u001b[0;34m**\u001b[0m\u001b[0mkwargs\u001b[0m\u001b[0;34m)\u001b[0m\u001b[0;34m)\u001b[0m\u001b[0;34m\u001b[0m\u001b[0;34m\u001b[0m\u001b[0m\n\u001b[0m\u001b[1;32m    381\u001b[0m \u001b[0;34m\u001b[0m\u001b[0m\n\u001b[1;32m    382\u001b[0m     \u001b[0;31m# build a buffer for storing evaluations of func1d.\u001b[0m\u001b[0;34m\u001b[0m\u001b[0;34m\u001b[0m\u001b[0;34m\u001b[0m\u001b[0m\n",
      "\u001b[0;31mTypeError\u001b[0m: 'int' object is not callable"
     ]
    }
   ],
   "source": [
    "np.pad(inp_layer, 0, 1, padder = 1)"
   ]
  },
  {
   "cell_type": "code",
   "execution_count": 57,
   "metadata": {},
   "outputs": [
    {
     "name": "stdout",
     "output_type": "stream",
     "text": [
      "[[[4 2 3 0]\n",
      "  [3 0 3 0]\n",
      "  [4 2 0 1]\n",
      "  [1 1 4 3]]\n",
      "\n",
      " [[3 4 1 0]\n",
      "  [2 4 1 3]\n",
      "  [0 2 4 4]\n",
      "  [2 3 3 0]]]\n",
      " \n",
      " \n",
      "[[2 1]\n",
      " [2 0]]\n",
      " \n",
      "[[[0 1 0 1]\n",
      "  [0 1 0 1]\n",
      "  [2 3 2 3]\n",
      "  [2 3 2 3]]\n",
      "\n",
      " [[0 1 0 1]\n",
      "  [0 1 0 1]\n",
      "  [2 3 2 3]\n",
      "  [2 3 2 3]]]\n",
      " \n",
      "[[0 0 1 1]\n",
      " [0 0 1 1]\n",
      " [2 2 3 3]\n",
      " [2 2 3 3]]\n",
      " \n"
     ]
    },
    {
     "ename": "IndexError",
     "evalue": "index 2 is out of bounds for axis 0 with size 2",
     "output_type": "error",
     "traceback": [
      "\u001b[0;31m---------------------------------------------------------------------------\u001b[0m",
      "\u001b[0;31mIndexError\u001b[0m                                Traceback (most recent call last)",
      "\u001b[0;32m<ipython-input-57-d60341273e95>\u001b[0m in \u001b[0;36m<module>\u001b[0;34m\u001b[0m\n\u001b[1;32m     32\u001b[0m \u001b[0mprint\u001b[0m\u001b[0;34m(\u001b[0m\u001b[0mrow_index\u001b[0m\u001b[0;34m)\u001b[0m\u001b[0;34m\u001b[0m\u001b[0;34m\u001b[0m\u001b[0m\n\u001b[1;32m     33\u001b[0m \u001b[0mprint\u001b[0m\u001b[0;34m(\u001b[0m\u001b[0;34m\" \"\u001b[0m\u001b[0;34m)\u001b[0m\u001b[0;34m\u001b[0m\u001b[0;34m\u001b[0m\u001b[0m\n\u001b[0;32m---> 34\u001b[0;31m \u001b[0mprint\u001b[0m\u001b[0;34m(\u001b[0m\u001b[0mnp\u001b[0m\u001b[0;34m.\u001b[0m\u001b[0mmatmul\u001b[0m\u001b[0;34m(\u001b[0m\u001b[0mkernel\u001b[0m\u001b[0;34m.\u001b[0m\u001b[0mreshape\u001b[0m\u001b[0;34m(\u001b[0m\u001b[0;36m1\u001b[0m\u001b[0;34m,\u001b[0m \u001b[0;34m-\u001b[0m\u001b[0;36m1\u001b[0m\u001b[0;34m)\u001b[0m\u001b[0;34m,\u001b[0m \u001b[0mnp\u001b[0m\u001b[0;34m.\u001b[0m\u001b[0mtranspose\u001b[0m\u001b[0;34m(\u001b[0m\u001b[0minp_layer\u001b[0m\u001b[0;34m[\u001b[0m\u001b[0mrow_index\u001b[0m\u001b[0;34m,\u001b[0m \u001b[0mcol_index\u001b[0m\u001b[0;34m]\u001b[0m\u001b[0;34m)\u001b[0m\u001b[0;34m)\u001b[0m\u001b[0;34m.\u001b[0m\u001b[0mreshape\u001b[0m\u001b[0;34m(\u001b[0m\u001b[0;36m2\u001b[0m\u001b[0;34m,\u001b[0m\u001b[0;36m2\u001b[0m\u001b[0;34m)\u001b[0m\u001b[0;34m)\u001b[0m\u001b[0;34m\u001b[0m\u001b[0;34m\u001b[0m\u001b[0m\n\u001b[0m",
      "\u001b[0;31mIndexError\u001b[0m: index 2 is out of bounds for axis 0 with size 2"
     ]
    }
   ],
   "source": [
    "inp_layer = np.random.randint(5, size=(2, 4, 4))\n",
    "kernel = np.random.randint(3, size=(2,2))\n",
    "padding = 0\n",
    "H = 4\n",
    "W = 4\n",
    "C = 2\n",
    "stride = 2\n",
    "field_height = 2\n",
    "field_width = 2\n",
    "out_height = int((H + 2 * padding - field_height)/stride) + 1\n",
    "out_width = int((W + 2 * padding - field_width)/stride) + 1\n",
    "\n",
    "#base vectors for index generation\n",
    "colm = np.tile(np.arange(field_width), field_height)\n",
    "coli = stride * np.tile(np.arange(out_width), out_height)\n",
    "rowm = np.repeat(np.arange(field_width), field_height)\n",
    "rowi = stride * np.repeat(np.arange(out_width), out_height)\n",
    "\n",
    "#index generation\n",
    "col_index = colm.reshape(1, -1) + coli.reshape(-1, 1)\n",
    "col_index = np.tile(col_index, 2).reshape(2, col_index.shape[0], col_index.shape[1])\n",
    "row_index = rowm.reshape(1, -1) + rowi.reshape(-1, 1)\n",
    "# row_index = np.tile(row_index, 2).reshape(2, row_index.shape[0], row_index.shape[1])\n",
    "print(inp_layer)\n",
    "print(\" \")\n",
    "# print(inp_layer[row_index, col_index])\n",
    "print(\" \")\n",
    "print(kernel.reshape(2, 2))\n",
    "print(\" \")\n",
    "print(col_index)\n",
    "print(\" \")\n",
    "print(row_index)\n",
    "print(\" \")\n",
    "print(np.matmul(kernel.reshape(1, -1), np.transpose(inp_layer[row_index, col_index])).reshape(2,2))"
   ]
  },
  {
   "cell_type": "code",
   "execution_count": 7,
   "metadata": {},
   "outputs": [
    {
     "data": {
      "text/plain": [
       "array([0, 1, 2, 0, 1, 2, 0, 1, 2])"
      ]
     },
     "execution_count": 7,
     "metadata": {},
     "output_type": "execute_result"
    }
   ],
   "source": [
    "np.tile([0, 1, 2], 3)"
   ]
  },
  {
   "cell_type": "code",
   "execution_count": 8,
   "metadata": {},
   "outputs": [
    {
     "data": {
      "text/plain": [
       "array([0, 0, 0, 1, 1, 1])"
      ]
     },
     "execution_count": 8,
     "metadata": {},
     "output_type": "execute_result"
    }
   ],
   "source": [
    "np.repeat([0,1], 3)"
   ]
  },
  {
   "cell_type": "code",
   "execution_count": 81,
   "metadata": {},
   "outputs": [
    {
     "name": "stdout",
     "output_type": "stream",
     "text": [
      "[[2 0 1 1 4 1 2 0 3 2 4 1 1 2 4 0 4 2 3 2 0 2 2 3 0 3 3 2 4 2 2 4]\n",
      " [4 1 4 2 0 0 1 1 4 3 0 3 0 2 4 4 1 2 2 1 1 0 3 0 3 0 2 3 2 2 3 2]\n",
      " [1 2 4 4 3 2 0 1 1 3 1 2 0 3 4 4 0 0 1 0 1 2 2 4 0 2 0 2 0 2 2 0]]\n"
     ]
    }
   ],
   "source": [
    "kernel_size = (4,4,2,3)\n",
    "k2d, k2d, C, knum = kernel_size\n",
    "kernel = np.random.randint(5, size = (3, 4*4*2))\n",
    "# print(kernel)"
   ]
  },
  {
   "cell_type": "code",
   "execution_count": 94,
   "metadata": {},
   "outputs": [
    {
     "name": "stdout",
     "output_type": "stream",
     "text": [
      "[[[2 0 3]\n",
      "  [2 2 4]\n",
      "  [2 4 2]]\n",
      "\n",
      " [[2 2 4]\n",
      "  [4 1 1]\n",
      "  [4 0 0]]\n",
      "\n",
      " [[2 3 1]\n",
      "  [0 2 4]\n",
      "  [2 2 0]]]\n",
      " \n",
      "[[4 1 1]]\n"
     ]
    }
   ],
   "source": [
    "x = np.random.randint(5, size = (3,3,3))\n",
    "print(x)\n",
    "print(\" \")\n",
    "print(x[[1], [1]])"
   ]
  },
  {
   "cell_type": "code",
   "execution_count": 130,
   "metadata": {},
   "outputs": [
    {
     "data": {
      "text/plain": [
       "(4, 48)"
      ]
     },
     "execution_count": 130,
     "metadata": {},
     "output_type": "execute_result"
    }
   ],
   "source": [
    "k = np.random.randint(2, size = (4, 3, 4, 4))\n",
    "k.reshape(-1, 3*4*4).shape"
   ]
  },
  {
   "cell_type": "code",
   "execution_count": 186,
   "metadata": {},
   "outputs": [],
   "source": [
    "def imageToColumn(inp_layer, kernel_size, stride = 1, padding = 0):\n",
    "    C, H, W  = inp_layer.shape[0], inp_layer.shape[1], inp_layer.shape[2]\n",
    "    out_height = int((H + 2*padding - kernel_size)/stride) + 1\n",
    "    out_width = int((W + 2*padding - kernel_size)/stride) + 1\n",
    "\n",
    "    #base vectors for index generation\n",
    "    colm = np.tile(np.arange(kernel_size), kernel_size)\n",
    "    coli = stride * np.tile(np.arange(out_width), out_height)\n",
    "    rowm = np.repeat(np.arange(kernel_size), kernel_size)\n",
    "    rowi = stride * np.repeat(np.arange(out_width), out_height)\n",
    "\n",
    "    col_index = colm.reshape(1, -1) + coli.reshape(-1, 1)\n",
    "    row_index = rowm.reshape(1, -1) + rowi.reshape(-1, 1)\n",
    "\n",
    "    #image_2_col generation\n",
    "    inp_col = np.transpose(np.squeeze(np.concatenate((np.vsplit(inp_layer[:, row_index, col_index], C)), axis = 2)))\n",
    "    return inp_col, out_height, out_width\n",
    "\n",
    "def kernel_initialise(kernel_size):\n",
    "    Knum, Kdepth, Kx, Ky = kernel_size\n",
    "    return np.random.randint(2, size = (Knum, Kdepth, Kx, Ky))\n",
    "\n",
    "#kernel is to be passed with the following shape params - (Knum, Kdepth, Kx, Ky)\n",
    "def kernelToRow(inp_layer, kernel, out_height, out_width, stride = 1):\n",
    "    Knum, Kdepth, Kx, Ky = kernel.shape[0], kernel.shape[1], kernel.shape[2], kernel.shape[3] \n",
    "    kernel = np.reshape(kernel, (-1, Kdepth*Kx*Ky))\n",
    "    print(kernel)\n",
    "    print(kernel.shape)\n",
    "    conv_out = np.matmul(kernel, inp_layer)/(Kx*Ky)\n",
    "    conv_out = conv_out.reshape(-1, out_height, out_width)\n",
    "    return conv_out\n"
   ]
  },
  {
   "cell_type": "code",
   "execution_count": 187,
   "metadata": {},
   "outputs": [
    {
     "name": "stdout",
     "output_type": "stream",
     "text": [
      "(2, 4, 4)\n",
      "[[[1 0 0 1]\n",
      "  [2 2 1 1]\n",
      "  [1 1 2 2]\n",
      "  [1 2 2 0]]\n",
      "\n",
      " [[2 1 1 1]\n",
      "  [2 2 0 0]\n",
      "  [0 1 0 0]\n",
      "  [2 1 2 1]]]\n"
     ]
    }
   ],
   "source": [
    "inp_layer = np.random.randint(3, size=(2, 4, 4))\n",
    "print(inp_layer.shape)\n",
    "kernel = np.random.randint(2, size = (4, 2, 3, 3))\n",
    "print(inp_layer)\n",
    "# print(\" \")\n",
    "# print(kernel)"
   ]
  },
  {
   "cell_type": "code",
   "execution_count": 191,
   "metadata": {},
   "outputs": [
    {
     "name": "stdout",
     "output_type": "stream",
     "text": [
      "(18, 4)\n",
      "[[1 0 2 2]\n",
      " [0 0 2 1]\n",
      " [0 1 1 1]\n",
      " [2 2 1 1]\n",
      " [2 1 1 2]\n",
      " [1 1 2 2]\n",
      " [1 1 1 2]\n",
      " [1 2 2 2]\n",
      " [2 2 2 0]\n",
      " [2 1 2 2]\n",
      " [1 1 2 0]\n",
      " [1 1 0 0]\n",
      " [2 2 0 1]\n",
      " [2 0 1 0]\n",
      " [0 0 0 0]\n",
      " [0 1 2 1]\n",
      " [1 0 1 2]\n",
      " [0 0 2 1]]\n",
      "[[1 1 1 1 0 0 1 0 1 0 0 1 1 1 0 0 0 1]\n",
      " [1 1 0 0 0 0 0 0 0 1 0 1 1 0 0 0 1 0]\n",
      " [0 1 0 0 0 1 0 0 1 0 0 1 0 1 0 0 0 0]\n",
      " [1 1 0 1 1 1 0 0 0 0 0 0 0 1 0 0 1 0]]\n",
      "(4, 18)\n",
      "[[1.22222222 1.         1.33333333 1.        ]\n",
      " [0.77777778 0.44444444 0.77777778 0.88888889]\n",
      " [0.66666667 0.44444444 0.77777778 0.33333333]\n",
      " [1.         0.44444444 1.11111111 1.11111111]]\n",
      " \n",
      "(4, 2, 2)\n"
     ]
    }
   ],
   "source": [
    "image_col, out_height, out_width = imageToColumn(inp_layer, kernel.shape[2])\n",
    "# image_col.reshape(image_col.shape[1], image_col.shape[2])\n",
    "print(image_col.shape)\n",
    "print(image_col)\n",
    "conv_out = kernelToRow(image_col, kernel, out_height, out_width)\n",
    "print(conv_out)\n",
    "print(\" \")\n",
    "conv_out = conv_out.reshape(-1, out_height, out_width)\n",
    "print(conv_out.shape)"
   ]
  },
  {
   "cell_type": "code",
   "execution_count": null,
   "metadata": {},
   "outputs": [],
   "source": []
  },
  {
   "cell_type": "code",
   "execution_count": null,
   "metadata": {},
   "outputs": [],
   "source": []
  }
 ],
 "metadata": {
  "kernelspec": {
   "display_name": "Python 3",
   "language": "python",
   "name": "python3"
  },
  "language_info": {
   "codemirror_mode": {
    "name": "ipython",
    "version": 3
   },
   "file_extension": ".py",
   "mimetype": "text/x-python",
   "name": "python",
   "nbconvert_exporter": "python",
   "pygments_lexer": "ipython3",
   "version": "3.6.7"
  }
 },
 "nbformat": 4,
 "nbformat_minor": 2
}
